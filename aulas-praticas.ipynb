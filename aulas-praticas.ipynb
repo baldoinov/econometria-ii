{
 "cells": [
  {
   "cell_type": "markdown",
   "metadata": {},
   "source": [
    "# Aulas Práticas - EAE"
   ]
  },
  {
   "cell_type": "code",
   "execution_count": 27,
   "metadata": {},
   "outputs": [],
   "source": [
    "import pandas as pd\n",
    "import seaborn as sns\n",
    "import numpy as np\n",
    "import statsmodels.api as sm\n",
    "from statsmodels.sandbox.regression.gmm import IV2SLS\n",
    "from math import log\n"
   ]
  },
  {
   "cell_type": "markdown",
   "metadata": {},
   "source": [
    "## ***Aula 2022/04/10***\n",
    "\n",
    "***Exemplo 15.7 Wooldrige***\n",
    "\n",
    "```r \n",
    "library(AER); library(lmtest)\n",
    "\n",
    "#restringir salarios observados\n",
    "oursample <- subset(MROZ, !is.na(wage))\n",
    "\n",
    "# primeiro estagio:forma reduzida\n",
    "stage1 <- lm(educ ~exper+I(exper^2)+motheduc+fatheduc, data=oursample)\n",
    "\n",
    "#segundo estagio\n",
    "stage2 <- lm(log(wage)~educ+exper+I(exper^2)+resid(stage1), data=oursample)\n",
    "\n",
    "#resultados incluindo testes t\n",
    "coeftest(stage2)\n",
    "```\n",
    "\n",
    "***Exemplo Teste de Hausman***\n",
    "\n",
    "```r\n",
    "library(AER)\n",
    "\n",
    "#restringir salarios observados\n",
    "oursample <- subset(MROZ, !is.na(wage))\n",
    "\n",
    "#estimar 2SLS\n",
    "ivreg1<-ivreg(log(wage)~educ+exper+I(exper^2)|motheduc+fatheduc+exper+I(exper^2), data=oursample)\n",
    "\n",
    "#teste Hausmann\n",
    "summary(ivreg1, diagnostics=TRUE)\n",
    "```"
   ]
  },
  {
   "cell_type": "code",
   "execution_count": 37,
   "metadata": {},
   "outputs": [
    {
     "name": "stdout",
     "output_type": "stream",
     "text": [
      "                            OLS Regression Results                            \n",
      "==============================================================================\n",
      "Dep. Variable:                   wage   R-squared:                       0.154\n",
      "Model:                            OLS   Adj. R-squared:                  0.146\n",
      "Method:                 Least Squares   F-statistic:                     19.31\n",
      "Date:                Tue, 04 Oct 2022   Prob (F-statistic):           1.33e-14\n",
      "Time:                        10:42:19   Log-Likelihood:                -432.22\n",
      "No. Observations:                 428   AIC:                             874.4\n",
      "Df Residuals:                     423   BIC:                             894.7\n",
      "Df Model:                           4                                         \n",
      "Covariance Type:            nonrobust                                         \n",
      "================================================================================\n",
      "                   coef    std err          t      P>|t|      [0.025      0.975]\n",
      "--------------------------------------------------------------------------------\n",
      "const            0.1519      0.398      0.382      0.703      -0.630       0.933\n",
      "educ             0.0650      0.031      2.094      0.037       0.004       0.126\n",
      "exper            0.0158      0.004      3.926      0.000       0.008       0.024\n",
      "exper**2         0.0004      0.000      0.870      0.385      -0.001       0.001\n",
      "resid_stage1     0.0555      0.035      1.592      0.112      -0.013       0.124\n",
      "==============================================================================\n",
      "Omnibus:                       78.671   Durbin-Watson:                   1.952\n",
      "Prob(Omnibus):                  0.000   Jarque-Bera (JB):              280.379\n",
      "Skew:                          -0.790   Prob(JB):                     1.31e-61\n",
      "Kurtosis:                       6.637   Cond. No.                         873.\n",
      "==============================================================================\n",
      "\n",
      "Notes:\n",
      "[1] Standard Errors assume that the covariance matrix of the errors is correctly specified.\n"
     ]
    },
    {
     "data": {
      "text/plain": [
       "None"
      ]
     },
     "metadata": {},
     "output_type": "display_data"
    }
   ],
   "source": [
    "from numpy import append, apply_along_axis\n",
    "\n",
    "\n",
    "df = pd.read_stata('dados/MROZ.DTA')\n",
    "df = df.loc[df['wage'].notna()]\n",
    "df['exper**2'] = df['exper'] ** 2\n",
    "\n",
    "vars_x1 = sm.add_constant(df[['exper', 'exper**2', 'motheduc', 'fatheduc']])\n",
    "y1 = df['educ']\n",
    "stage1 = sm.OLS(y1, vars_x1, missing='drop').fit()\n",
    "\n",
    "vars_x2 = sm.add_constant(df[['educ', 'exper', 'exper**2']])\n",
    "vars_x2['resid_stage1'] = stage1.resid                                                               \n",
    "y2 = df['wage'].apply(log)\n",
    "stage2 = sm.OLS(y2, vars_x2, missing='drop').fit()\n",
    "display(print(stage2.summary()))"
   ]
  },
  {
   "cell_type": "code",
   "execution_count": 45,
   "metadata": {},
   "outputs": [
    {
     "name": "stdout",
     "output_type": "stream",
     "text": [
      "                          IV2SLS Regression Results                           \n",
      "==============================================================================\n",
      "Dep. Variable:                   wage   R-squared:                       0.031\n",
      "Model:                         IV2SLS   Adj. R-squared:                  0.027\n",
      "Method:                     Two Stage   F-statistic:                     6.864\n",
      "                        Least Squares   Prob (F-statistic):            0.00116\n",
      "Date:                Tue, 04 Oct 2022                                         \n",
      "Time:                        19:58:09                                         \n",
      "No. Observations:                 428                                         \n",
      "Df Residuals:                     425                                         \n",
      "Df Model:                           2                                         \n",
      "==============================================================================\n",
      "                 coef    std err          t      P>|t|      [0.025      0.975]\n",
      "------------------------------------------------------------------------------\n",
      "const          0.9737      0.068     14.352      0.000       0.840       1.107\n",
      "exper          0.0157      0.004      3.638      0.000       0.007       0.024\n",
      "exper**2       0.0006      0.001      1.072      0.285      -0.000       0.002\n",
      "==============================================================================\n",
      "Omnibus:                       50.892   Durbin-Watson:                   1.957\n",
      "Prob(Omnibus):                  0.000   Jarque-Bera (JB):              143.000\n",
      "Skew:                          -0.557   Prob(JB):                     8.87e-32\n",
      "Kurtosis:                       5.603   Cond. No.                         139.\n",
      "==============================================================================\n"
     ]
    }
   ],
   "source": [
    "exog = sm.add_constant(df[['exper', 'exper**2']])\n",
    "instruments = sm.add_constant(df[['exper', 'exper**2', 'motheduc', 'fatheduc']])\n",
    "y = df['wage'].apply(log)\n",
    "\n",
    "model = IV2SLS(endog=y, exog=exog, instrument=instruments).fit()\n",
    "print(model.summary())"
   ]
  },
  {
   "cell_type": "code",
   "execution_count": 46,
   "metadata": {},
   "outputs": [
    {
     "name": "stdout",
     "output_type": "stream",
     "text": [
      "(-1.511757977540514e-13, 1.0, 3)\n"
     ]
    }
   ],
   "source": [
    "print(model.spec_hausman())"
   ]
  },
  {
   "cell_type": "code",
   "execution_count": 43,
   "metadata": {},
   "outputs": [
    {
     "data": {
      "text/plain": [
       "0.127"
      ]
     },
     "execution_count": 43,
     "metadata": {},
     "output_type": "execute_result"
    }
   ],
   "source": [
    "round(0.1267127193620064, 3)"
   ]
  },
  {
   "cell_type": "markdown",
   "metadata": {},
   "source": []
  },
  {
   "cell_type": "code",
   "execution_count": null,
   "metadata": {},
   "outputs": [],
   "source": [
    "b_mqo = stage1.params\n",
    "b_vi = stage2.params\n",
    "\n",
    "A = (b_vi - b_mqo).T\n",
    "B = np.linalg.inv(stage2.cov_params() - stage1.cov_params())\n",
    "C = (b_vi - b_mqo)\n",
    "# H = A * B * C"
   ]
  },
  {
   "cell_type": "code",
   "execution_count": 33,
   "metadata": {},
   "outputs": [
    {
     "data": {
      "text/plain": [
       "const          -8.472314\n",
       "exper           0.002634\n",
       "exper**2       -0.000783\n",
       "fatheduc       -0.170273\n",
       "motheduc       -0.155858\n",
       "resid_stage1         NaN\n",
       "dtype: float64"
      ]
     },
     "execution_count": 33,
     "metadata": {},
     "output_type": "execute_result"
    }
   ],
   "source": [
    "C"
   ]
  },
  {
   "cell_type": "markdown",
   "metadata": {},
   "source": []
  }
 ],
 "metadata": {
  "kernelspec": {
   "display_name": "Python 3.10.7 64-bit",
   "language": "python",
   "name": "python3"
  },
  "language_info": {
   "codemirror_mode": {
    "name": "ipython",
    "version": 3
   },
   "file_extension": ".py",
   "mimetype": "text/x-python",
   "name": "python",
   "nbconvert_exporter": "python",
   "pygments_lexer": "ipython3",
   "version": "3.10.7"
  },
  "orig_nbformat": 4,
  "vscode": {
   "interpreter": {
    "hash": "5fe3e6f0cdaab8afdc61c52912fda83f7c0a71baaea1897dd7498e2df01e69ec"
   }
  }
 },
 "nbformat": 4,
 "nbformat_minor": 2
}
